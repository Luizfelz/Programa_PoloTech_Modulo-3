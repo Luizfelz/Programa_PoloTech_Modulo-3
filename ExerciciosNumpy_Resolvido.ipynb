{
  "cells": [
    {
      "cell_type": "markdown",
      "metadata": {
        "id": "dDhJSUbSE6hI"
      },
      "source": [
        "# Lista de Exercícios de Numpy\n",
        "\n",
        "Deverá ser entrege até **11/02/2023** por meio do github que foi informado por vocês no [formulário](https://forms.office.com/r/YV12vEXGYF) respondido na aula de 01/02.\n",
        "\n",
        "A entrega pela github é parte da avaliação."
      ]
    },
    {
      "cell_type": "markdown",
      "metadata": {
        "id": "eX5x6-bjE6hN"
      },
      "source": [
        "## Questão 1\n",
        "\n",
        "Crie um array 100 com valores aleatórios e ache os valores máximo e mínimo"
      ]
    },
    {
      "cell_type": "code",
      "execution_count": null,
      "metadata": {
        "id": "kYKS_ae1E6hP",
        "colab": {
          "base_uri": "https://localhost:8080/"
        },
        "outputId": "5510adf8-139b-46f1-e9d5-586f763e350e"
      },
      "outputs": [
        {
          "output_type": "stream",
          "name": "stdout",
          "text": [
            "No primeiro array, o valor máximo é = 0.9803603146955018 e o valor mínimo é = 0.02230450417059615.\n",
            "No segundo array, o valor máximo é = 98 e o valor mínimo é = 1.\n"
          ]
        }
      ],
      "source": [
        "import numpy as np\n",
        "\n",
        "# cria um array com 100 valores aleatórios entre 0 e 1, sendo o 0 inclusivo e o 1 exclusivo\n",
        "array_100_valores = np.random.rand(100)\n",
        "\n",
        "# cria um array com 'n' valores aleatórios, apenas inteiros, entre um intervalo especificado: np.random.randint(x, y, n), onde:\n",
        "          # x é o valor inicial (inclusivo)\n",
        "          # y é o último valor (exclusivo)\n",
        "          # n é o número de valores no array\n",
        "array_100_valores_inteiros = np.random.randint(0,100,100)\n",
        "\n",
        "# encontra o valor máximo e mínimo do primeiro array (valores entre 0 e 1)\n",
        "valor_max_primeiro_array = array_100_valores.max()\n",
        "valor_min_primeiro_array = array_100_valores.min()\n",
        "\n",
        "# encontra o valor máximo e mínimo do segundo array (entre 0 e 100)\n",
        "valor_max_segundo_array = array_100_valores_inteiros.max()\n",
        "valor_min_segundo_array = array_100_valores_inteiros.min()\n",
        "\n",
        "print(f'No primeiro array, o valor máximo é = {valor_max_primeiro_array} e o valor mínimo é = {valor_min_primeiro_array}.')\n",
        "print(f'No segundo array, o valor máximo é = {valor_max_segundo_array} e o valor mínimo é = {valor_min_segundo_array}.')"
      ]
    },
    {
      "cell_type": "markdown",
      "metadata": {
        "id": "qT9pSHp4E6hQ"
      },
      "source": [
        "## Questão 2\n",
        "Em Geometria Analítica, um **vetor** é uma quantidade que pode ser definida por um énuplo (uma sequência ordenada de *n* elementos) em que cada elemento representa a intensidade do vetor na direção especificada pela i-ésima componente desta sequência. \n",
        "\n",
        "Quando pensamos em duas dimensões, por exemplo, o vetor $R = (b,a)$ define, geometricamente, a entidade representada na figura abaixo, com componentes nos eixos x e y usuais.\n",
        "\n",
        "<img src = \"https://static.todamateria.com.br/upload/im/ag/image-721.jpg?auto_optimize=low\" />\n",
        "\n",
        "O **módulo** deste vetor, também chamado de intensidade, está geometricamente relacionado ao seu comprimento, e pode ser calculado diretamente pelas suas componentes, por meio de uma operação conhecida como **produto escalar** do vetor com ele mesmo. O módulo quadrático é expresso, desta forma, por:\n",
        "\n",
        "$|A|^2 = \\vec{A} \\cdot \\vec{A}$\n",
        "\n",
        "Por outro lado, o produto escalar entre dois vetores $A = (a_{x}, a_{y})$ e $B = (b_{x}, b_{y})$ é dado por:\n",
        "\n",
        "$\\vec{A} \\cdot \\vec{B} = a_{x} \\times b_{x} + a_{y} \\times b_{y}$ (e esta definição vale para qualquer que seja a dimensão do vetor).\n",
        "\n",
        "O módulo quadrático de um vetor é, portanto:\n",
        "\n",
        "$|A|² = a_{x}^2 + b_{x}^2$."
      ]
    },
    {
      "cell_type": "markdown",
      "metadata": {
        "id": "-ZU6W86sE6hT"
      },
      "source": [
        "Dado o exposto acima, escreva uma função que retorne o módulo de um vetor n-dimensional qualquer."
      ]
    },
    {
      "cell_type": "code",
      "execution_count": null,
      "metadata": {
        "id": "PdKKKvShE6hT",
        "colab": {
          "base_uri": "https://localhost:8080/"
        },
        "outputId": "81437745-d37a-4dd8-df79-e2e0964b3fd5"
      },
      "outputs": [
        {
          "output_type": "stream",
          "name": "stdout",
          "text": [
            "O vetor é: v = [12  4 92 95 19 56 93 63].\n",
            "O módulo do vetor é: |v| = 183.74982993189408.\n"
          ]
        }
      ],
      "source": [
        "import numpy as np\n",
        "\n",
        "# valor aleatório, de 0 a 10, para definir o tamanho 'n' do vetor\n",
        "qntd_de_termos_do_vetor = np.random.randint(10) \n",
        "\n",
        "# vetor com tamanho 'n', aleatório, de valores inteiros de 0 a 100\n",
        "vetor_aleatorio = np.random.randint(0, 100, qntd_de_termos_do_vetor)\n",
        "\n",
        "def calcula_modulo_vetor(x,y):\n",
        "  soma = 0\n",
        "  for i in range(x):\n",
        "    soma += y[i]**2\n",
        "  return np.sqrt(soma)\n",
        "\n",
        "# chama a função que calcula o módulo do vetor e armazena na variável chamada 'modulo'\n",
        "modulo = calcula_modulo_vetor(qntd_de_termos_do_vetor, vetor_aleatorio)\n",
        "\n",
        "\n",
        "print(f'O vetor é: v = {vetor_aleatorio}.')\n",
        "print(f'O módulo do vetor é: |v| = {modulo}.')"
      ]
    },
    {
      "cell_type": "markdown",
      "metadata": {
        "id": "CRZdfzLgE6hU"
      },
      "source": [
        "## Questão 3\n",
        "\n",
        "Em uma **análise de regressão**, usualmente estamos interessados em descrever relações entre variáveis de um dado conjunto de dados por meio de uma **função** que descreva, o tanto quanto possível, estas relações.\n",
        "\n",
        "Por exemplo, no gráfico abaixo, os pontos vermelhos relacionam as medidas das duas variáveis sendo avaliadas (nos eixos x e y); e a linha azul aproxima a relação entre elas por uma função linear."
      ]
    },
    {
      "cell_type": "markdown",
      "metadata": {
        "id": "180Vp7AZE6hV"
      },
      "source": [
        "![Normdist_regression.png](https://miro.medium.com/v2/resize:fit:786/format:webp/1*LEmBCYAttxS6uI6rEyPLMQ.png)"
      ]
    },
    {
      "cell_type": "markdown",
      "metadata": {
        "id": "oQ1RFXOAE6hV"
      },
      "source": [
        "É possível ver que nem todos os pontos obedecem exatamente à relação ditada pela reta (isto é, há pontos que não estão exatamente \"sobre a reta\"; mas, sim, ligeraimente acima, ou abaixo, dela). Isto, contudo, é esperado em um modelo de regressão, por inúmeras fontes de incerteza associadas às medições."
      ]
    },
    {
      "cell_type": "markdown",
      "metadata": {
        "id": "XGWoc_O2E6hW"
      },
      "source": [
        "Uma das métricas que utilizamos para avaliar a qualidade de uma regressão é o **erro quadrático médio (EQM)**, que mensura a diferença total entre cada predição da regressão ($y_{prediction}$; que no nosso caso seriam os valores de y para a reta azul) com o valor real de cada i-ésima medida ($y_{i}$; que no nosso caso seriam as coordenadas y para cada ponto vermelho do gráfico). O EQM pode ser definido como:"
      ]
    },
    {
      "cell_type": "markdown",
      "metadata": {
        "id": "CjgOdTD6E6hX"
      },
      "source": [
        "$EQM = \\frac{1}{n}\\sum_{i=1}^{n}(y_{prediction} - y_{i})^2$."
      ]
    },
    {
      "cell_type": "markdown",
      "metadata": {
        "id": "qeXCrbmbE6hY"
      },
      "source": [
        "Isto posto, escreva uma função que calcule o EQM recebendo, como entrada, os vetores $y_{prediction}$ e $y_{i}$. Por exemplo, digamos que sua função se chame *calculate_eqm*, ela deve operar da seguinte forma:"
      ]
    },
    {
      "cell_type": "code",
      "execution_count": null,
      "metadata": {
        "id": "mW1BDfUcE6hZ"
      },
      "outputs": [],
      "source": [
        "# dados dois arrays quaisquer de mesmo tamanho, a função deve retornar o EQM\n",
        "# y_prediction = np.array([1,2,3])\n",
        "# y_i = np.array([0,0,3])\n",
        "# calculate_eqm(y_prediction,y_i)\n",
        "# >>> 1.6666666663"
      ]
    },
    {
      "cell_type": "code",
      "execution_count": null,
      "metadata": {
        "id": "bwiTGuuoE6hb",
        "colab": {
          "base_uri": "https://localhost:8080/"
        },
        "outputId": "7a771178-ca30-4f72-d416-3115eea07d86"
      },
      "outputs": [
        {
          "output_type": "stream",
          "name": "stdout",
          "text": [
            "Os valores de predição são: y_predicao = [4 7 3 6 5 7].\n",
            "Os valores reais são: y_real = [8 5 8 4 8 8].\n",
            "O valor do EQM é = 9.833333333333334.\n"
          ]
        }
      ],
      "source": [
        "import numpy as np\n",
        "\n",
        "# gera uma quantidade para o tamanho dos array's\n",
        "n = np.random.randint(10) \n",
        "\n",
        "# array com 'n' valores entre 0 e 10\n",
        "y_predicao = np.random.randint(0,10,n)\n",
        "\n",
        "# array com 'n' valores entre 0 e 10\n",
        "y_real = np.random.randint(0,10,n)\n",
        "\n",
        "def calcula_eqm(x,y,n): # x=y_predicao; y=y_real\n",
        "  soma = 0\n",
        "  for i in range(n):\n",
        "    soma += (y_predicao[i] - y_real[i]) ** 2\n",
        "  return soma / n\n",
        "\n",
        "# executa a função para calcular o valor do EQM\n",
        "eqm = calcula_eqm(y_predicao,y_real,n)\n",
        "\n",
        "print(f'Os valores de predição são: y_predicao = {y_predicao}.')\n",
        "print(f'Os valores reais são: y_real = {y_real}.')\n",
        "print(f'O valor do EQM é = {eqm}.')"
      ]
    },
    {
      "cell_type": "markdown",
      "metadata": {
        "id": "Wh0_a8PjE6hc"
      },
      "source": [
        "## Questão 4\n",
        "\n",
        "Crie um array 2D (bidimensional) com 1 na borda e 0 dentro"
      ]
    },
    {
      "cell_type": "code",
      "source": [
        "import numpy as np\n",
        "\n",
        "# gera uma quantidade para o tamanho do array\n",
        "n = np.random.randint(10) \n",
        "\n",
        "# cria um array de zeros com 'n'-linhas e 'n'-colunas\n",
        "array_de_zeros = np.zeros((n,n),dtype=np.int64)\n",
        "\n",
        "if n != 0:\n",
        "  # substitui a primeira linha (borda de cima)\n",
        "  array_de_zeros[0,:] = 1\n",
        "\n",
        "  # substitiu a última linha (borda de baixo)\n",
        "  array_de_zeros[-1,:] = 1\n",
        "\n",
        "  # substitiu a primeira coluna (borda esquerda)\n",
        "  array_de_zeros[:,0] = 1\n",
        "\n",
        "  # substitiu a última coluna (borda direita)\n",
        "  array_de_zeros[:,-1] = 1\n",
        "\n",
        "  print(f'Array de dimensão {n}x{n}: \\n{array_de_zeros}.')\n",
        "else:\n",
        "  print(f'Array vazio: {array_de_zeros}.')\n"
      ],
      "metadata": {
        "colab": {
          "base_uri": "https://localhost:8080/"
        },
        "id": "FjbZ2fQ1MyJW",
        "outputId": "3e8ec23d-973d-476d-a5c3-cce446f29f92"
      },
      "execution_count": null,
      "outputs": [
        {
          "output_type": "stream",
          "name": "stdout",
          "text": [
            "Array de dimensão 7x7: \n",
            "[[1 1 1 1 1 1 1]\n",
            " [1 0 0 0 0 0 1]\n",
            " [1 0 0 0 0 0 1]\n",
            " [1 0 0 0 0 0 1]\n",
            " [1 0 0 0 0 0 1]\n",
            " [1 0 0 0 0 0 1]\n",
            " [1 1 1 1 1 1 1]].\n"
          ]
        }
      ]
    },
    {
      "cell_type": "markdown",
      "metadata": {
        "id": "U1CntgkZE6hc"
      },
      "source": [
        "## Questão 5\n",
        "\n",
        "Como adicionar uma borda de 0's ao redor de um array 2D (bidimensional) existente"
      ]
    },
    {
      "cell_type": "code",
      "source": [
        "import numpy as np\n",
        "\n",
        "# gera uma quantidade para o tamanho do array\n",
        "n = np.random.randint(10) \n",
        "\n",
        "# array com tamanho 'n', aleatório, de valores inteiros de 0 a 100\n",
        "array_aleatorio = np.random.randint(0,100,(n,n))\n",
        "\n",
        "# array com tamanho 'n+1' de zeros\n",
        "array_aleatorio_maior = np.zeros((n+1,n+1),dtype=np.int64)\n",
        "\n",
        "# adiciona o array de números aleatórios dentro do array de zeros, deixando a primeira linha e a primeira coluna com os valores 0\n",
        "array_aleatorio_maior[1:,1:] = array_aleatorio\n",
        "\n",
        "# adiciona uma coluna de zeros à direita (borda direita)\n",
        "array_aleatorio_maior = np.append(array_aleatorio_maior,np.zeros((n+1,1),dtype=np.int64),axis=1)\n",
        "\n",
        "# adiciona uma linha de zeros no final (borda de baixo)\n",
        "array_aleatorio_maior = np.append(array_aleatorio_maior,np.zeros((1,n+2),dtype=np.int64),axis=0)\n",
        "\n",
        "print(f'O array inicial é: \\n dim.: {n}x{n} \\n {array_aleatorio}. \\n')\n",
        "print(f'O array final, com borda de zeros, é: \\n dim.: {n+2}x{n+2} \\n {array_aleatorio_maior}.')"
      ],
      "metadata": {
        "colab": {
          "base_uri": "https://localhost:8080/"
        },
        "id": "D9xPJaomZbFB",
        "outputId": "f720e838-84f0-42ba-9e3a-5a5dc2d5e017"
      },
      "execution_count": null,
      "outputs": [
        {
          "output_type": "stream",
          "name": "stdout",
          "text": [
            "O array inicial é: \n",
            " dim.: 1x1 \n",
            " [[30]]. \n",
            "\n",
            "O array final, com borda de zeros, é: \n",
            " dim.: 3x3 \n",
            " [[ 0  0  0]\n",
            " [ 0 30  0]\n",
            " [ 0  0  0]].\n"
          ]
        }
      ]
    },
    {
      "cell_type": "markdown",
      "metadata": {
        "id": "qHh149eAE6hd"
      },
      "source": [
        "## Questão 6\n",
        "\n",
        " A eletroencefalografia (EEG) é uma técnica que mensura potenciais elétricos cerebrais em diversas regiões do escalpo do paciente. Suponha que você recebeu um conjunto de dados na forma de uma matriz de 64 x 512 elementos, em que cada linha contém o sinal gravado em um dos **eletrodos** espalhados pelo escalpo em um exame de EEG, e cada coluna contém um valor de potencial elétrico, em microvolts. "
      ]
    },
    {
      "cell_type": "markdown",
      "metadata": {
        "id": "BRDY8u09E6hd"
      },
      "source": [
        "Como o sinal de EEG é muito suscetível a ruídos externos (interferências na qualidade do sinal), uma operação comum para atenuar a interferência no sinal consiste em tirar a média do potencial elétrico de todos os eletrodos, e subtrair este valor de cada um deles. Isto atenua fontes de ruído ao sinal comuns a todos os eletrodos. Em termos matemáticos, o sinal processado por esta operação, $X_{e,i}$ para cada eletrodo (e) e amostra (i), é dado por:"
      ]
    },
    {
      "cell_type": "markdown",
      "metadata": {
        "id": "NHLeT5deE6he"
      },
      "source": [
        "$X_{e,i} = \\hat{X_{e,i}} - \\frac{1}{N}\\sum_{e=1}^{N}\\hat{X_{e,i}}$,\n",
        "\n",
        "em que $\\hat{X_{e,i}}$ representa o sinal original (ou seja, é a matriz de entrada de 64 x 512 elementos), e $N$ indica o total de eletrodos."
      ]
    },
    {
      "cell_type": "markdown",
      "metadata": {
        "id": "ToiE-omdE6he"
      },
      "source": [
        "Com o exposto acima, escreva uma função que retorne uma matriz com os sinais de EEG processados conforme a operação mencionada. Sua função deve operar conforme o exemplo abaixo."
      ]
    },
    {
      "cell_type": "code",
      "execution_count": null,
      "metadata": {
        "id": "EgsEH6T-E6hf"
      },
      "outputs": [],
      "source": [
        "# import numpy as np\n",
        "# vamos supor uma matriz de entrada gerada por dados aleatórios\n",
        "# X = np.random.randn(64,512)\n",
        "# X.shape # apenas para verificar as dimensões\n",
        "# >>> (64, 512)\n",
        "\n",
        "# a função deve executar a operação equacionada anteriormente, retornando uma nova matriz\n",
        "# X_processado = process_EEG_signal(X)\n",
        "# X_processado.shape\n",
        "# >>> (64, 512)\n",
        "\n",
        "# Somando as diferenças entre cada elemento das duas matrizes, apenas para ilustrar que elas não são iguais\n",
        "# (X_processado - X).sum()\n",
        "# >>> -53.08727366483029\n",
        "\n",
        "# Visualizando as matrizes, para verificar uma vez mais que, de fato, os elementos são diferentes\n",
        "# X\n",
        "# >>> array([[ 0.29305925,  0.89663038, -0.61032202, ..., -0.88086364,\n",
        "#             -0.8818789 ,  0.51260497],\n",
        "#            [-0.01274415,  1.05439522,  0.47958092, ..., -2.15387924,\n",
        "#              0.70721168,  0.97029889],\n",
        "#            [ 1.09478371, -0.16120847,  1.58400361, ...,  0.20981813,\n",
        "#              2.17373837,  0.94032162],\n",
        "#            ...,\n",
        "#            [-0.45294842, -2.28939505,  1.10111998, ...,  1.63581703,\n",
        "#             -0.39394924, -1.13400723],\n",
        "#            [-0.22669886,  0.25413429, -1.17870637, ..., -0.09509442,\n",
        "#              0.90733806,  0.37999411],\n",
        "#            [ 0.15476933, -0.03654717, -1.09982762, ...,  0.67600047,\n",
        "#             -0.84533328, -0.56433144]])\n",
        "\n",
        "# Matriz após o processamento descrito no enunciado\n",
        "# X_processado\n",
        "# >>> array([[ 0.36713022,  0.85772513, -0.54902169, ..., -0.85626087,\n",
        "#             -0.97611435,  0.51718998],\n",
        "#            [ 0.06132682,  1.01548997,  0.54088126, ..., -2.12927647,\n",
        "#              0.61297623,  0.97488389],\n",
        "#            [ 1.16885469, -0.20011372,  1.64530394, ...,  0.23442091,\n",
        "#              2.07950292,  0.94490663],\n",
        "#            ...,\n",
        "#            [-0.37887744, -2.3283003 ,  1.16242031, ...,  1.6604198 ,\n",
        "#             -0.4881847 , -1.12942223],\n",
        "#            [-0.15262788,  0.21522904, -1.11740604, ..., -0.07049164,\n",
        "#              0.81310261,  0.38457911],\n",
        "#            [ 0.22884031, -0.07545242, -1.03852729, ...,  0.70060324,\n",
        "#             -0.93956874, -0.55974643]])"
      ]
    },
    {
      "cell_type": "code",
      "execution_count": null,
      "metadata": {
        "id": "OlxjvCnQE6hj"
      },
      "outputs": [],
      "source": [
        "import numpy as np\n",
        "\n",
        "# criação do array de 64x512 de dados aleatórios\n",
        "dados_aleatorios = np.random.randn(64,512)\n",
        "\n",
        "def processa_dados_eeg(dados_aleatorios):\n",
        "  # calcula a média do array\n",
        "  media = dados_aleatorios.mean()\n",
        "\n",
        "  # subtrai a média de cada valor dentro do array inicial e cria um novo array com os dados processados\n",
        "  dados_aleatorios_processados = dados_aleatorios - media\n",
        "  \n",
        "  return dados_aleatorios_processados, media\n",
        "\n",
        "# o 'return' da função fornece uma tupla, na qual a média é o segundo termo (índice = 1)\n",
        "print(f'A Média do potencial elétrico dos diodos é = {processa_dados_eeg(dados_aleatorios)[1]}. \\n') \n",
        "\n",
        "print(f'A matriz inicial é: \\n {dados_aleatorios}. \\n')\n",
        "print(f'A matriz processada é: \\n {processa_dados_eeg(dados_aleatorios)[0]}.')"
      ]
    },
    {
      "cell_type": "markdown",
      "metadata": {
        "id": "7Gy6nTwQE6hj"
      },
      "source": [
        "## Questão 7\n",
        "\n",
        "Em estatística, um **outlier** é um valor que destoa consideravelmente da distribuição à qual está associado. Um dos critérios para idenficar outliers consiste em encontrar a **distância interquantil** (IQR), ou seja, a diferença entre o terceiro (Q3) e o primeiro quartis (Q1) da distribuição, e tomar como outliers todos os pontos abaixo de 1.5*IQR - Q1, ou acima de 1.5*IQR + Q3."
      ]
    },
    {
      "cell_type": "markdown",
      "metadata": {
        "id": "CP-NkMHTE6hk"
      },
      "source": [
        "<img src = \"https://blog.curso-r.com/images/posts/banner/outlier.webp\" />"
      ]
    },
    {
      "cell_type": "markdown",
      "metadata": {
        "id": "BLDJN5JPE6hk"
      },
      "source": [
        "Escreva uma função que, dada uma matriz de dados de entrada de dimensões $N_{observações} \\times N_{features}$ retorne três requisitos: \n",
        "- uma matriz booleana indicando a existência de outliers nos dados de entrada;\n",
        "- a quantidade de outliers\n",
        "- quem são os outliers (os valores)."
      ]
    },
    {
      "cell_type": "markdown",
      "metadata": {
        "id": "wwVcP2uZE6hl"
      },
      "source": [
        "**Algumas definições:**\n",
        "- um *quantil* divide a distribuição, após ordenados os pontos, segundo algum ponto de corte;\n",
        "- o **primeiro quartil** é o ponto para o qual 25 % dos valores da distribuição estão abaixo dele;\n",
        "- o **terceiro quartil** é o ponto para o qual 75 % dos valores da distribuição estão abaixo dele.\n",
        "\n",
        "Pode ser útil consultar a função **numpy.quantile**."
      ]
    },
    {
      "cell_type": "markdown",
      "metadata": {
        "id": "C9nCKXhjE6hm"
      },
      "source": [
        "Exemplo de operação da função:"
      ]
    },
    {
      "cell_type": "code",
      "execution_count": null,
      "metadata": {
        "id": "wHdcs77RE6hm"
      },
      "outputs": [],
      "source": [
        "'''\n",
        "# Geremos um conjunto de dados qualquer\n",
        "X = np.random.randn(300,15)\n",
        ">>> array([[ 1.38099939, -1.00625541,  0.00968184, ..., -0.20784191,\n",
        "             0.36232481, -0.4071473 ],\n",
        "           [ 0.64009538, -0.47358915,  1.27057446, ...,  0.13400926,\n",
        "            -0.82165675, -2.92180194],\n",
        "           [-1.17075282, -0.084285  , -0.93022482, ...,  0.75297628,\n",
        "             0.23420238, -0.01112133],\n",
        "           ...,\n",
        "           [-1.33355822, -1.94712603, -0.83136148, ..., -0.36718705,\n",
        "             0.87680528,  0.56366331],\n",
        "           [ 0.39996864,  0.96285484, -0.70921429, ...,  0.15784522,\n",
        "             0.9663939 ,  1.50170879],\n",
        "           [ 0.69004696,  0.1588939 ,  0.04541013, ..., -0.74624076,\n",
        "            -0.93105604,  1.16555654]])\n",
        "\n",
        "# identificamos os requisitos com nossa com nossa função \"locate_outliers\"\n",
        "is_outlier, outliers_count, outliers = locate_outliers(X)\n",
        "\n",
        "is_outlier\n",
        ">>> array([[False, False, False, ..., False, False, False],\n",
        "           [False, False, False, ..., False, False, False],\n",
        "           [False, False, False, ..., False, False, False],\n",
        "           ...,\n",
        "           [False, False, False, ..., False, False, False],\n",
        "           [False, False, False, ..., False, False, False],\n",
        "           [False, False, False, ..., False, False, False]])\n",
        "\n",
        "outliers_count\n",
        ">>> 44\n",
        "\n",
        "outliers\n",
        ">>> array([-2.67240384,  3.00270904,  3.62317101,  3.18867865,  2.55581522,\n",
        "           -2.82091429,  2.8757892 ,  2.70666036,  3.19514999, -3.40550318,\n",
        "           -3.39825827,  2.6727295 ,  2.54498296, -2.69447104,  3.19521603,\n",
        "            2.66372172, -2.77444948,  2.77421152,  2.69992869, -2.84831109,\n",
        "           -2.83695779, -2.45908227,  3.07802106,  2.89314015, -2.68574682,\n",
        "           -2.85019494,  2.43399574,  2.44291266, -2.92595937, -2.95911074,\n",
        "           -3.03966003,  2.77543068, -2.67368414, -2.79965402, -3.0501958 ,\n",
        "           -2.5437387 ,  3.08550649, -3.17666255, -3.05795476, -3.09826467,\n",
        "            3.1399469 ,  3.18141942,  2.90564257, -2.89505054])\n",
        "\n",
        "'''"
      ]
    },
    {
      "cell_type": "code",
      "execution_count": null,
      "metadata": {
        "id": "AdTkst5UE6hq",
        "colab": {
          "base_uri": "https://localhost:8080/"
        },
        "outputId": "4a16d920-bcae-4475-ba2f-e97940b9dd3f"
      },
      "outputs": [
        {
          "output_type": "stream",
          "name": "stdout",
          "text": [
            "O array booleano com a indicação dos outliers é: \n",
            " [[0. 0. 0. ... 0. 0. 0.]\n",
            " [0. 0. 0. ... 0. 0. 0.]\n",
            " [0. 0. 0. ... 0. 0. 0.]\n",
            " ...\n",
            " [0. 0. 0. ... 0. 0. 0.]\n",
            " [0. 0. 0. ... 0. 0. 0.]\n",
            " [0. 0. 0. ... 0. 0. 0.]]. \n",
            "\n",
            "A quantidade de outliers no array é = 30. \n",
            "\n",
            "Os outliers são: \n",
            " [-3.0317516  -2.68305098  2.98144142 -3.7432558   3.08002585  2.81460701\n",
            " -2.8154814  -2.68673612  3.02211929 -2.90788934 -2.82131795  2.78752786\n",
            " -2.65861427  2.9668474   3.11894296  3.05104863  3.46209739  2.79396516\n",
            " -2.74563756 -2.70641171 -2.91429425 -2.70768884  2.9252185   2.96182267\n",
            " -2.84466603  2.82252958 -3.10959684  2.77049751 -3.05165538 -3.27055933]. \n",
            "\n"
          ]
        }
      ],
      "source": [
        "import numpy as np\n",
        "\n",
        "# gera um array aleatorio de tamanho especificado\n",
        "array_aleatorio = np.random.randn(300,15)\n",
        "\n",
        "# gera um array cópia do principal\n",
        "array_copia = np.copy(array_aleatorio)\n",
        "\n",
        "def localiza_outliers(array_aleatorio, array_copia):\n",
        "  # retorna um escalar, referente ao quartil 25%\n",
        "  quartil_25 = np.quantile(array_aleatorio, 0.25)\n",
        "\n",
        "  # retorna um escalar, referente ao quartil 75%\n",
        "  quartil_75 = np.quantile(array_aleatorio, 0.75)\n",
        "\n",
        "  # cálculo da distância interquartil (iqr)\n",
        "  iqr = quartil_75 - quartil_25\n",
        "\n",
        "  # regras para considerar um valor como outlier\n",
        "  regra_1 = quartil_25 - (1.5 * iqr)\n",
        "  regra_2 = quartil_75 + (1.5 * iqr)\n",
        "\n",
        "  # retorna um array de booleano dos valores outliers\n",
        "  for i in range(0,300):\n",
        "    for k in range(0,15):\n",
        "      if ((array_aleatorio[i,k] < regra_1) or (array_aleatorio[i,k] > regra_2)):\n",
        "        array_aleatorio[i,k] = 1\n",
        "      else:\n",
        "        array_aleatorio[i,k] = 0\n",
        "\n",
        "  # retorna a quantidade de outliers na amostra np.count_nonzero()\n",
        "  qntd_outlier = int(array_aleatorio.sum())\n",
        "\n",
        "  # retorna um array com os valores dos outliers\n",
        "  outliers =  array_copia[array_aleatorio == True]\n",
        "\n",
        "  return array_aleatorio, qntd_outlier, outliers\n",
        "\n",
        "array_bool, qntd_outlier, outliers = localiza_outliers(array_aleatorio, array_copia)\n",
        "\n",
        "print(f'O array booleano com a indicação dos outliers é: \\n {array_bool}. \\n')\n",
        "print(f'A quantidade de outliers no array é = {qntd_outlier}. \\n')\n",
        "print(f'Os outliers são: \\n {outliers}. \\n')"
      ]
    },
    {
      "cell_type": "markdown",
      "metadata": {
        "id": "upNDn96PE6hq"
      },
      "source": [
        "## Questão 8\n",
        "\n",
        "Crie um vetor com valores que vão de 1 até 21 de dois em dois, a partir da função arange"
      ]
    },
    {
      "cell_type": "code",
      "execution_count": null,
      "metadata": {
        "id": "w4d14JRZE6hr",
        "colab": {
          "base_uri": "https://localhost:8080/"
        },
        "outputId": "0767d062-da6f-427a-8c2c-aa7c8cb9b447"
      },
      "outputs": [
        {
          "output_type": "stream",
          "name": "stdout",
          "text": [
            "O vetor é: [ 1  3  5  7  9 11 13 15 17 19 21].\n"
          ]
        }
      ],
      "source": [
        "import numpy as np\n",
        "\n",
        "# cria um vetor que possui valores de 1 a 21 (ambos inclusivos), pulando de 2 em 2\n",
        "vetor = np.arange(1,23,2)\n",
        "\n",
        "print(f'O vetor é: {vetor}.')"
      ]
    },
    {
      "cell_type": "markdown",
      "metadata": {
        "id": "SchEY1O7E6hr"
      },
      "source": [
        "## Questão 9\n",
        "\n",
        "Crie um array de 10 com valores aleatórios"
      ]
    },
    {
      "cell_type": "code",
      "execution_count": null,
      "metadata": {
        "id": "MYpySePjE6hs",
        "colab": {
          "base_uri": "https://localhost:8080/"
        },
        "outputId": "0c77ed36-a002-45be-ea89-926e0785dc0b"
      },
      "outputs": [
        {
          "output_type": "stream",
          "name": "stdout",
          "text": [
            "[0.67474267 0.1881713  0.09391418 0.2269079  0.39961547 0.31741738\n",
            " 0.45306265 0.78530876 0.7380421  0.55462049] \n",
            "\n",
            "[ 0.09692747  1.93886484 -1.3658698  -0.33937761  1.96439005 -0.46625599\n",
            "  0.2953062  -2.02031994  1.36876595  0.37790581] \n",
            "\n",
            "[[8 7 4 5 7]\n",
            " [7 8 3 3 1]]\n"
          ]
        }
      ],
      "source": [
        "import numpy as np\n",
        "\n",
        "# cria um array com 10 valores aleatórios entre 0 e 1 (exclusivo)\n",
        "array_10_elementos = np.random.rand(10)\n",
        "\n",
        "# cria um array com 10 valores aleatórios, considerando a \"Distribuição Normal\", onde a média dos valores é igual a zero e o desvio padrão é igual a 1\n",
        "array_10_elementos_standard = np.random.randn(10)\n",
        "\n",
        "# cria um array considerando a \"Distribuição Uniforme Discreta\" de valores, com tamanho e forma (size) especificado e com o valor máximo (exclusivo) especificado\n",
        "array_10_elementos_discrete = np.random.randint(10,size=(2,5))\n",
        "\n",
        "print(array_10_elementos, '\\n')\n",
        "print(array_10_elementos_standard, '\\n')\n",
        "print(array_10_elementos_discrete)"
      ]
    },
    {
      "cell_type": "markdown",
      "metadata": {
        "id": "EFfvM6LIAlfJ"
      },
      "source": [
        "## Questão 10\n",
        "\n",
        "Em estatística, a normalização de uma distribuição de dados pode ser feita subtraindo o valor médio da distribuição de cada valor do conjunto de dados, dividindo o resultado pelo desvio-padrão da distribuição. Escreva uma função que normalize os dados recebidos por um array numpy qualquer, conforme descrito anteriormente."
      ]
    },
    {
      "cell_type": "code",
      "execution_count": null,
      "metadata": {
        "id": "yfho2bziAlfJ",
        "colab": {
          "base_uri": "https://localhost:8080/"
        },
        "outputId": "16e662b8-0791-4532-ee43-959d1e2c9ada"
      },
      "outputs": [
        {
          "output_type": "stream",
          "name": "stdout",
          "text": [
            "A distribuição de dados original é: \n",
            " [0.85042011 0.66466341 0.1733007  0.11636233 0.76771671 0.34676736\n",
            " 0.42620407 0.44951164 0.56562239 0.62624896]. \n",
            "\n",
            "A distribuição subtraída a média é: \n",
            " [ 0.35173834  0.16598164 -0.32538107 -0.38231943  0.26903494 -0.15191441\n",
            " -0.0724777  -0.04917013  0.06694062  0.12756719]. \n",
            "\n",
            "A distribuição normalizada (dividida pelo desvio padrão) é: \n",
            " [ 1.53191478  0.72289456 -1.4171218  -1.66510364  1.17171931 -0.66162798\n",
            " -0.3156598  -0.21414909  0.29154434  0.55558932].\n"
          ]
        }
      ],
      "source": [
        "import numpy as np\n",
        "\n",
        "def normaliza():\n",
        "  # cria um array com 10 dados aleatórios\n",
        "  dados = np.random.rand(10)\n",
        "\n",
        "  # calcula a média da distribuição de dados\n",
        "  media = np.mean(dados)\n",
        "\n",
        "  # calcula o desvio padrão dos dados\n",
        "  desvio = np.std(dados)\n",
        "\n",
        "  # array com os dados subtraida a média\n",
        "  dados_sub_media = dados - media\n",
        "\n",
        "  # array com os dados_sub_media divididos pelo desvio padrão da distribuição total\n",
        "  dados_final = dados_sub_media / desvio\n",
        "\n",
        "  return dados, dados_sub_media, dados_final\n",
        "\n",
        "dados, dados_sub_media, dados_final = normaliza()\n",
        "\n",
        "print(f'A distribuição de dados original é: \\n {dados}. \\n')\n",
        "print(f'A distribuição subtraída a média é: \\n {dados_sub_media}. \\n')\n",
        "print(f'A distribuição normalizada (dividida pelo desvio padrão) é: \\n {dados_final}.')"
      ]
    },
    {
      "cell_type": "markdown",
      "metadata": {
        "id": "p60_N7ZwAlfK"
      },
      "source": [
        "## Questão 11\n",
        "\n",
        "Escreva uma função em numpy que receba um array contendo notas de uma turma de 100 estudantes. Considere que a nota de aprovação da turma é 5.0. A função deve retornar, em um array numpy, nesta ordem:\n",
        "- a média e o desvio-padrão das notas da turma;\n",
        "- o número de notas maiores que 7.0;\n",
        "- o número de reprovações da turma;\n",
        "- a menor nota da turma;\n",
        "- a maior nota da turma."
      ]
    },
    {
      "cell_type": "code",
      "execution_count": null,
      "metadata": {
        "id": "Q3wkBCFtAlfK",
        "colab": {
          "base_uri": "https://localhost:8080/"
        },
        "outputId": "4dc8d13f-6bf0-4df0-dc04-54e44364002c"
      },
      "outputs": [
        {
          "output_type": "stream",
          "name": "stdout",
          "text": [
            "[ 4.79482939  2.84799848 28.         55.          9.97586227  0.06511913]\n"
          ]
        }
      ],
      "source": [
        "import numpy as np\n",
        "\n",
        "# cria um array com 100 valores (notas) aleatórias\n",
        "notas = np.random.rand(100) * 10\n",
        "\n",
        "def analisa_notas(notas):\n",
        "  # calcula a média da distribuição\n",
        "  media = np.mean(notas)\n",
        "\n",
        "  # calcula o desvio padrão da distribuição\n",
        "  desvio = np.std(notas)\n",
        "\n",
        "  # retorna a quantidade de notas maiores que 7\n",
        "  maior_7 = (notas > 7).sum()\n",
        "\n",
        "  # retorna a quantidade de notas menores que 5\n",
        "  reprovados = (notas < 5).sum()\n",
        "\n",
        "  # retorna a maior nota (maior valor da distribuição)\n",
        "  maior_nota = np.max(notas)\n",
        "\n",
        "  # retorna a menor nota (menor valor da distribuição)\n",
        "  menor_nota = np.min(notas)\n",
        "\n",
        "  return media, desvio, maior_7, reprovados, maior_nota, menor_nota\n",
        "\n",
        "resultado = np.array(analisa_notas(notas),dtype=np.float64)\n",
        "\n",
        "print(resultado)"
      ]
    }
  ],
  "metadata": {
    "language_info": {
      "name": "python"
    },
    "orig_nbformat": 4,
    "colab": {
      "provenance": []
    },
    "kernelspec": {
      "name": "python3",
      "display_name": "Python 3"
    },
    "gpuClass": "standard"
  },
  "nbformat": 4,
  "nbformat_minor": 0
}